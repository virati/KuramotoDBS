{
 "cells": [
  {
   "cell_type": "markdown",
   "metadata": {},
   "source": [
    "# Control-Affine DBS for Depression\n",
    "\n",
    "\n",
    "## Tools\n",
    "\n",
    "### The Virtual Brain\n",
    "\n",
    "We use The Virtual Brain to build our network models. We use a set of open-source libraries to add a layer of control theory and a layer of disease theory onto TVB models.\n",
    "\n",
    "## The Control-Affine Model\n",
    "\n",
    "### Model\n",
    "We start by defining our system $\\Sigma = (\\mathbb{S},I,O)$ as a stateful system that transforms inputs to outputs. The system is the brain, the inputs are any exogenous signals and the outputs are any exogenous actions or emotions.\n",
    "\n",
    "The electrophysiologic state $\\vec{x}(t) \\in \\mathbf{X}$ is a projection of $s \\in \\mathbb{S}$, which is the entire *abstract* statespace.\n",
    "First, we define our system $\\Sigma$.\n",
    "\n",
    "Our state $x$ evolves according to\n",
    "\n",
    "$\\dot{x} = f(x(t),u(t))$\n",
    "\n",
    "Where $u(t)$ is some control signal that indexes the vector valued function $f$..\n",
    "\n",
    "$f$ itself is a mapping $f: \\mathcal{M}_{\\mathbf{X}} \\rightarrow T\\mathcal{M}_\\mathbf{X}$ from the manifold $\\mathbb{X}$ to the tangent space on the manifold.\n",
    "\n",
    "## Control\n",
    "Deep brain stimulation (DBS) inserts temporally patterned electrical currents into key regions of the brain.\n",
    "\n",
    "The control signal $u(t)$ will be parametrized by $\\theta \\in \\mathbb{R}^3$ consisting of the frequency, voltage, and pulsewidth.\n",
    "\n",
    "How the signal $u$ affects the dynamics $\\dot{x} = f(x)$ will be through a separate function $g_{l,h}(x)$.\n",
    "\n",
    "## Control-Affine\n",
    "\n",
    "We focus our attention by assuming our system is affine in control.\n",
    "\n",
    "$$ \\dot{x} = f^*(x) = f_{\\Psi}(x) + g_{l,h}(x)u_{\\theta}(t)$$\n",
    "\n",
    "Here, $\\Psi$ corresponds to the plastic state of the brain and affects the family of dynamics that $f$ belongs to. For example, a bifurcation would be considered a change in the intrinsic dynamics $f$ that must be accounted for. We do not focus on this part further in this investigation.\n",
    "\n",
    "$l$ corresponds to the location being stimulated. $h$ corresponds to a set of hypotheses for the effect of DBS on brain regions. For example, one hypothesis would be that DBS blocks communication between brain regions. A different hypothesis is that DBS increases synchronization between brain regions. Another is that it silences a single brain region and affects its downstream communications.\n",
    "\n",
    "## Systematic Framework for Studying Closed-loop DBS\n",
    "From this basic definition, we open up a vast literature and body of work in control theory to frame our efforts in DBS. At the worst, this yields a useful lexicon or set of analogies. But, I suspect, it'll actually provide important insight and guidance for systematic engineering of adaptive DBS and parallel study of disease neurodynamics through *strong inference* \\cite{platt1963,others}\n",
    "\n",
    "### Closed-loop or Adaptive DBS\n",
    "The goal of adaptive DBS is to adjust the stimulation $u(t)$ according to a measurement of disease state $y$ that, ideally, comes from the brain state $x$ itself.\n",
    "\n",
    "$$ y = h(x) $$\n",
    "\n",
    "## Measurement\n",
    "We then have a simple measurement model where\n",
    "\n",
    "$\\vec{y}(t) = M_{\\text{ephys}}(x)$\n",
    "\n",
    "First, we'll assume a linear measurement model\n",
    "\n",
    "$\\vec{y}(t) = \\mathbb{M}\\vec{x}$\n",
    "\n",
    "\n",
    "## Mood state and depression state\n",
    "The mood state $\\beta (t)$ is an element of a manifold $\\mathcal{B}_m \\subset \\mathcal{B}$\n",
    "\n",
    "$ \\beta = \\Xi (x,\\dot{x})$\n",
    "\n",
    "Where $\\Xi : \\mathbb{X} \\times T\\mathbb{X}_m \\rightarrow \\mathbb{X}$\n",
    "\n",
    "$ \\dot{\\beta} = \\frac{\\partial}{\\partial t}\\Xi = \\frac{\\partial \\Xi}{\\partial x} \\space \\dot{x}$\n",
    "\n",
    "As defined in the DSM-5, the presence of five of the possible nine symptoms is diagnostic of depression. We'll interpret this to mean that the symptom space is $\\sigma \\in \\mathbb{R}^9$ and that we have a degenerate mapping $\\mathfrak{C}$ defined as $\\mathfrak{C}: \\mathbb{R}^9 \\rightarrow \\{ 0,1\\}$ with a nine(?) dimensional hypersurface"
   ]
  },
  {
   "cell_type": "markdown",
   "metadata": {},
   "source": [
    "## Results\n",
    "\n",
    "### The effect of dynamics\n",
    "\n",
    "We start by constructing a Kuramoto network model on a 164-node parcellation of the brain into regions."
   ]
  },
  {
   "cell_type": "code",
   "execution_count": null,
   "metadata": {},
   "outputs": [],
   "source": []
  },
  {
   "cell_type": "markdown",
   "metadata": {},
   "source": [
    "### The effect of stimulation location\n",
    "\n",
    "\n",
    "### The effect of stimulation coupling\n",
    "\n",
    "\n",
    "### Deep vs Surface Control\n",
    "\n",
    "We start with three different $g_l(x)$ functions.\n",
    "\n",
    "\n",
    "### Most likely mechanism"
   ]
  }
 ],
 "metadata": {
  "kernelspec": {
   "display_name": "Python 3",
   "language": "python",
   "name": "python3"
  },
  "language_info": {
   "codemirror_mode": {
    "name": "ipython",
    "version": 3
   },
   "file_extension": ".py",
   "mimetype": "text/x-python",
   "name": "python",
   "nbconvert_exporter": "python",
   "pygments_lexer": "ipython3",
   "version": "3.7.0"
  }
 },
 "nbformat": 4,
 "nbformat_minor": 2
}
