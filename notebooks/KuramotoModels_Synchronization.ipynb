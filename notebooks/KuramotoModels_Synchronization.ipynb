{
 "cells": [
  {
   "cell_type": "markdown",
   "metadata": {},
   "source": [
    "\n",
    "\n",
    "## Kuramoto Model\n",
    "\n",
    "\n",
    "## Results\n",
    "### Simulated synchronizations\n",
    "\n",
    "### Simulated stimulation\n",
    "We introduce stimulation at the halfway point of the simulation and study resulting dynamics across 100 trials. We find X\n",
    "\n",
    "## Discussion\n",
    "\n",
    "### Alpha synchronization or non-Alpha desychronization?\n",
    "$\\theta_\\alpha$ activity has been found to be inversely related to inputs into a brain region, suggesting that increased measurement of $\\theta_\\alpha$ power reflects reduced computation and increased *idling* of a brain region.\n",
    "\n",
    "Increases in $\\theta_\\alpha$ across multiple brain regions can be described as synchronization if only MS-coherence is studied. However, if the phases are offset, then a complete disconnection of the network can appear to be an increase in $\\theta_\\alpha$ MS-coherence.\n",
    "\n",
    "We suggest alternative language. If $\\theta_\\alpha$ power increases amongst regions then this may reflect a desynchronization between regions."
   ]
  }
 ],
 "metadata": {
  "kernelspec": {
   "display_name": "Python 3",
   "language": "python",
   "name": "python3"
  },
  "language_info": {
   "codemirror_mode": {
    "name": "ipython",
    "version": 3
   },
   "file_extension": ".py",
   "mimetype": "text/x-python",
   "name": "python",
   "nbconvert_exporter": "python",
   "pygments_lexer": "ipython3",
   "version": "3.7.1"
  }
 },
 "nbformat": 4,
 "nbformat_minor": 2
}
