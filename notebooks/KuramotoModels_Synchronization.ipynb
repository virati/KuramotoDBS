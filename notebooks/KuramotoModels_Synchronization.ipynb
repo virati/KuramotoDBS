{
 "cells": [
  {
   "cell_type": "markdown",
   "metadata": {},
   "source": [
    "# Basic Kuramoto\n",
    "## Part 1: Setup\n",
    "\n",
    "## Overview\n",
    "The goal of this notebook is to set up a simple Kuramoto model with all-to-all coupling using ```autodyn``` and verifying that it's working."
   ]
  },
  {
   "cell_type": "code",
   "execution_count": 12,
   "metadata": {},
   "outputs": [],
   "source": [
    "import autodyn\n",
    "import autodyn.base.dynSys as dynSys\n",
    "import autodyn.models.dynLib as dynLib\n",
    "\n",
    "import networkx as nx\n",
    "import matplotlib.pyplot as plt"
   ]
  },
  {
   "cell_type": "code",
   "execution_count": 14,
   "metadata": {},
   "outputs": [],
   "source": [
    "kmodel = dynLib.Ksys(N=3,d=1,L=nx.Graph())\n",
    "kmodel.run()"
   ]
  },
  {
   "cell_type": "markdown",
   "metadata": {},
   "source": [
    "\n",
    "\n",
    "\n",
    "## Results\n",
    "### Simulated synchronizations\n",
    "\n",
    "### Simulated stimulation\n",
    "We introduce stimulation at the halfway point of the simulation and study resulting dynamics across 100 trials. We find X\n",
    "\n",
    "## Discussion\n",
    "\n",
    "### Alpha synchronization or non-Alpha desychronization?\n",
    "$\\theta_\\alpha$ activity has been found to be inversely related to inputs into a brain region, suggesting that increased measurement of $\\theta_\\alpha$ power reflects reduced computation and increased *idling* of a brain region.\n",
    "\n",
    "Increases in $\\theta_\\alpha$ across multiple brain regions can be described as synchronization if only MS-coherence is studied. However, if the phases are offset, then a complete disconnection of the network can appear to be an increase in $\\theta_\\alpha$ MS-coherence.\n",
    "\n",
    "We suggest alternative language. If $\\theta_\\alpha$ power increases amongst regions then this may reflect a desynchronization between regions."
   ]
  }
 ],
 "metadata": {
  "kernelspec": {
   "display_name": "Python 3",
   "language": "python",
   "name": "python3"
  },
  "language_info": {
   "codemirror_mode": {
    "name": "ipython",
    "version": 3
   },
   "file_extension": ".py",
   "mimetype": "text/x-python",
   "name": "python",
   "nbconvert_exporter": "python",
   "pygments_lexer": "ipython3",
   "version": "3.10.1"
  }
 },
 "nbformat": 4,
 "nbformat_minor": 2
}
